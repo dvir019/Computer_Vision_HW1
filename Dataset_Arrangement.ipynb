{
 "cells": [
  {
   "cell_type": "code",
   "execution_count": 10,
   "metadata": {
    "collapsed": true
   },
   "outputs": [],
   "source": [
    "import shutil\n",
    "import os"
   ]
  },
  {
   "cell_type": "code",
   "execution_count": 6,
   "outputs": [],
   "source": [
    "def read_file(path):\n",
    "    files = []\n",
    "    with open(path, 'r') as f:\n",
    "        for untrimmed_line in f:\n",
    "            line = untrimmed_line.strip()\n",
    "            files.append(line[:-4])\n",
    "    return files"
   ],
   "metadata": {
    "collapsed": false,
    "pycharm": {
     "name": "#%%\n"
    }
   }
  },
  {
   "cell_type": "code",
   "execution_count": 7,
   "outputs": [],
   "source": [
    "def create_directory(dir_path):\n",
    "    if not os.path.exists(dir_path):\n",
    "        os.mkdir(dir_path)"
   ],
   "metadata": {
    "collapsed": false,
    "pycharm": {
     "name": "#%%\n"
    }
   }
  },
  {
   "cell_type": "code",
   "execution_count": 8,
   "outputs": [],
   "source": [
    "def arrange_dataset():\n",
    "    types = ('train', 'valid', 'test')\n",
    "    root = 'arranged_dataset'\n",
    "    create_directory(root)\n",
    "    for data_type in types:\n",
    "        files = read_file(f'HW1_dataset/{data_type}.txt')\n",
    "        destination = os.path.join(root, data_type)\n",
    "        create_directory(destination)\n",
    "        images_path = os.path.join(destination, 'images')\n",
    "        labels_path = os.path.join(destination, 'labels')\n",
    "        create_directory(images_path)\n",
    "        create_directory(labels_path)\n",
    "        for file in files:\n",
    "            img_path = os.path.join('HW1_dataset', 'images', f'{file}.jpg')\n",
    "            label_path = os.path.join('HW1_dataset', 'bboxes_labels', f'{file}.txt')\n",
    "            shutil.copy(img_path, images_path)\n",
    "            shutil.copy(label_path, labels_path)"
   ],
   "metadata": {
    "collapsed": false,
    "pycharm": {
     "name": "#%%\n"
    }
   }
  },
  {
   "cell_type": "code",
   "execution_count": 9,
   "outputs": [],
   "source": [
    "arrange_dataset()"
   ],
   "metadata": {
    "collapsed": false,
    "pycharm": {
     "name": "#%%\n"
    }
   }
  }
 ],
 "metadata": {
  "kernelspec": {
   "display_name": "Python 3",
   "language": "python",
   "name": "python3"
  },
  "language_info": {
   "codemirror_mode": {
    "name": "ipython",
    "version": 2
   },
   "file_extension": ".py",
   "mimetype": "text/x-python",
   "name": "python",
   "nbconvert_exporter": "python",
   "pygments_lexer": "ipython2",
   "version": "2.7.6"
  }
 },
 "nbformat": 4,
 "nbformat_minor": 0
}