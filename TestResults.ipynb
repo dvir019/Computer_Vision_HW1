{
 "cells": [
  {
   "cell_type": "code",
   "execution_count": 1,
   "id": "40205c6e",
   "metadata": {},
   "outputs": [],
   "source": [
    "import torch\n",
    "from matplotlib import pyplot as plt\n",
    "import numpy as np\n",
    "import cv2\n",
    "from PIL import Image"
   ]
  },
  {
   "cell_type": "markdown",
   "id": "2d03b52d",
   "metadata": {},
   "source": [
    "# Test Results"
   ]
  },
  {
   "cell_type": "markdown",
   "id": "bd4d330f",
   "metadata": {},
   "source": [
    "## Experiment 1\n",
    "### Small Model + SGD Optimizer"
   ]
  },
  {
   "cell_type": "code",
   "execution_count": 10,
   "id": "7d142b3d",
   "metadata": {},
   "outputs": [
    {
     "name": "stdout",
     "output_type": "stream",
     "text": [
      "\u001b[34m\u001b[1mval: \u001b[0mdata=data.yaml, weights=['runs/train/small_SGD/weights/best.pt'], batch_size=32, imgsz=640, conf_thres=0.001, iou_thres=0.6, max_det=300, task=test, device=, workers=8, single_cls=False, augment=False, verbose=False, save_txt=False, save_hybrid=False, save_conf=False, save_json=False, project=runs/val, name=small_SGD, exist_ok=False, half=False, dnn=False\n",
      "YOLOv5 🚀 v7.0-128-gb96f35c Python-3.8.13 torch-1.12.1 CUDA:0 (Tesla M60, 8129MiB)\n",
      "\n",
      "Fusing layers... \n",
      "Model summary: 157 layers, 7031701 parameters, 0 gradients, 15.8 GFLOPs\n",
      "\u001b[34m\u001b[1mtest: \u001b[0mScanning /home/student/myWork/hw1/yolov5/arranged_dataset/test/labels.cach\u001b[0m\n",
      "                 Class     Images  Instances          P          R      mAP50   \n",
      "                   all        199        398      0.947      0.693      0.735      0.648\n",
      "        Right_Scissors        199         42      0.889      0.955       0.95       0.84\n",
      "         Left_Scissors        199          1          1          0    0.00255   0.000255\n",
      "   Right_Needle_driver        199        137      0.944      0.898      0.983      0.904\n",
      "    Left_Needle_driver        199         10      0.971        0.5      0.503      0.401\n",
      "          Left_Forceps        199         62      0.982      0.984      0.989      0.862\n",
      "           Right_Empty        199         20      0.901       0.55      0.744      0.645\n",
      "            Left_Empty        199        126      0.945      0.962      0.975      0.879\n",
      "Speed: 0.2ms pre-process, 8.1ms inference, 1.5ms NMS per image at shape (32, 3, 640, 640)\n",
      "Results saved to \u001b[1mruns/val/small_SGD\u001b[0m\n"
     ]
    }
   ],
   "source": [
    "!cd yolov5 && python val.py --weights 'runs/train/small_SGD/weights/best.pt' --data data.yaml --task test --name 'small_SGD'"
   ]
  },
  {
   "cell_type": "markdown",
   "id": "3d9bc378",
   "metadata": {},
   "source": [
    "## Experiment 2\n",
    "### Small Model + AdamW Optimizer"
   ]
  },
  {
   "cell_type": "code",
   "execution_count": 11,
   "id": "00797783",
   "metadata": {},
   "outputs": [
    {
     "name": "stdout",
     "output_type": "stream",
     "text": [
      "\u001b[34m\u001b[1mval: \u001b[0mdata=data.yaml, weights=['runs/train/small_AdamW/weights/best.pt'], batch_size=32, imgsz=640, conf_thres=0.001, iou_thres=0.6, max_det=300, task=test, device=, workers=8, single_cls=False, augment=False, verbose=False, save_txt=False, save_hybrid=False, save_conf=False, save_json=False, project=runs/val, name=small_AdamW, exist_ok=False, half=False, dnn=False\n",
      "YOLOv5 🚀 v7.0-128-gb96f35c Python-3.8.13 torch-1.12.1 CUDA:0 (Tesla M60, 8129MiB)\n",
      "\n",
      "Fusing layers... \n",
      "Model summary: 157 layers, 7031701 parameters, 0 gradients, 15.8 GFLOPs\n",
      "\u001b[34m\u001b[1mtest: \u001b[0mScanning /home/student/myWork/hw1/yolov5/arranged_dataset/test/labels.cach\u001b[0m\n",
      "                 Class     Images  Instances          P          R      mAP50   \n",
      "                   all        199        398      0.947      0.689      0.727      0.593\n",
      "        Right_Scissors        199         42      0.881          1      0.952      0.797\n",
      "         Left_Scissors        199          1          1          0          0          0\n",
      "   Right_Needle_driver        199        137      0.954      0.906      0.986      0.852\n",
      "    Left_Needle_driver        199         10      0.957        0.5      0.498      0.255\n",
      "          Left_Forceps        199         62      0.899      0.952      0.958      0.815\n",
      "           Right_Empty        199         20          1      0.518      0.742        0.6\n",
      "            Left_Empty        199        126      0.935      0.944      0.955      0.833\n",
      "Speed: 0.3ms pre-process, 7.7ms inference, 2.1ms NMS per image at shape (32, 3, 640, 640)\n",
      "Results saved to \u001b[1mruns/val/small_AdamW\u001b[0m\n"
     ]
    }
   ],
   "source": [
    "!cd yolov5 && python val.py --weights 'runs/train/small_AdamW/weights/best.pt' --data data.yaml --task test --name 'small_AdamW'"
   ]
  },
  {
   "cell_type": "markdown",
   "id": "4812b211",
   "metadata": {},
   "source": [
    "## Experiment 3\n",
    "### Small Model + Adam Optimizer"
   ]
  },
  {
   "cell_type": "code",
   "execution_count": 12,
   "id": "0d935335",
   "metadata": {},
   "outputs": [
    {
     "name": "stdout",
     "output_type": "stream",
     "text": [
      "\u001b[34m\u001b[1mval: \u001b[0mdata=data.yaml, weights=['runs/train/small_Adam/weights/best.pt'], batch_size=32, imgsz=640, conf_thres=0.001, iou_thres=0.6, max_det=300, task=test, device=, workers=8, single_cls=False, augment=False, verbose=False, save_txt=False, save_hybrid=False, save_conf=False, save_json=False, project=runs/val, name=small_Adam, exist_ok=False, half=False, dnn=False\n",
      "YOLOv5 🚀 v7.0-128-gb96f35c Python-3.8.13 torch-1.12.1 CUDA:0 (Tesla M60, 8129MiB)\n",
      "\n",
      "Fusing layers... \n",
      "Model summary: 157 layers, 7031701 parameters, 0 gradients, 15.8 GFLOPs\n",
      "\u001b[34m\u001b[1mtest: \u001b[0mScanning /home/student/myWork/hw1/yolov5/arranged_dataset/test/labels.cach\u001b[0m\n",
      "                 Class     Images  Instances          P          R      mAP50   \n",
      "                   all        199        398      0.927      0.715      0.736      0.587\n",
      "        Right_Scissors        199         42      0.851      0.952      0.945      0.738\n",
      "         Left_Scissors        199          1          1          0          0          0\n",
      "   Right_Needle_driver        199        137      0.949      0.954      0.984      0.786\n",
      "    Left_Needle_driver        199         10      0.953        0.5      0.498      0.354\n",
      "          Left_Forceps        199         62      0.871      0.979      0.989      0.823\n",
      "           Right_Empty        199         20      0.928       0.65      0.752       0.59\n",
      "            Left_Empty        199        126      0.939       0.97      0.983       0.82\n",
      "Speed: 0.3ms pre-process, 8.1ms inference, 1.4ms NMS per image at shape (32, 3, 640, 640)\n",
      "Results saved to \u001b[1mruns/val/small_Adam\u001b[0m\n"
     ]
    }
   ],
   "source": [
    "!cd yolov5 && python val.py --weights 'runs/train/small_Adam/weights/best.pt' --data data.yaml --task test --name 'small_Adam'"
   ]
  },
  {
   "cell_type": "markdown",
   "id": "0df4005a",
   "metadata": {},
   "source": [
    "## Experiment 4\n",
    "### Large Model + SGD Optimizer"
   ]
  },
  {
   "cell_type": "code",
   "execution_count": 16,
   "id": "1c2a7255",
   "metadata": {},
   "outputs": [
    {
     "name": "stdout",
     "output_type": "stream",
     "text": [
      "\u001b[34m\u001b[1mval: \u001b[0mdata=data.yaml, weights=['runs/train/large_SGD/weights/best.pt'], batch_size=32, imgsz=640, conf_thres=0.001, iou_thres=0.6, max_det=300, task=test, device=, workers=8, single_cls=False, augment=False, verbose=False, save_txt=False, save_hybrid=False, save_conf=False, save_json=False, project=runs/val, name=large_SGD, exist_ok=False, half=False, dnn=False\n",
      "YOLOv5 🚀 v7.0-128-gb96f35c Python-3.8.13 torch-1.12.1 CUDA:0 (Tesla M60, 8129MiB)\n",
      "\n",
      "Fusing layers... \n",
      "Model summary: 267 layers, 46145973 parameters, 0 gradients, 107.8 GFLOPs\n",
      "\u001b[34m\u001b[1mtest: \u001b[0mScanning /home/student/myWork/hw1/yolov5/arranged_dataset/test/labels.cach\u001b[0m\n",
      "                 Class     Images  Instances          P          R      mAP50   \n",
      "                   all        199        398      0.938        0.7      0.718      0.644\n",
      "        Right_Scissors        199         42      0.931       0.96      0.955      0.855\n",
      "         Left_Scissors        199          1          1          0    0.00302   0.000302\n",
      "   Right_Needle_driver        199        137      0.944      0.985      0.987      0.945\n",
      "    Left_Needle_driver        199         10      0.904        0.5      0.498      0.378\n",
      "          Left_Forceps        199         62      0.927      0.984      0.981       0.88\n",
      "           Right_Empty        199         20      0.913      0.528      0.634      0.548\n",
      "            Left_Empty        199        126      0.944      0.943      0.969      0.903\n",
      "Speed: 0.3ms pre-process, 31.6ms inference, 1.8ms NMS per image at shape (32, 3, 640, 640)\n",
      "Results saved to \u001b[1mruns/val/large_SGD2\u001b[0m\n"
     ]
    }
   ],
   "source": [
    "!cd yolov5 && python val.py --weights 'runs/train/large_SGD/weights/best.pt' --data data.yaml --task test --name 'large_SGD'"
   ]
  },
  {
   "cell_type": "markdown",
   "id": "b9f0cafa",
   "metadata": {},
   "source": [
    "## Experiment 5\n",
    "### Small Model + Data Augmentation"
   ]
  },
  {
   "cell_type": "code",
   "execution_count": 14,
   "id": "cea4759c",
   "metadata": {},
   "outputs": [
    {
     "name": "stdout",
     "output_type": "stream",
     "text": [
      "\u001b[34m\u001b[1mval: \u001b[0mdata=data.yaml, weights=['runs/train/small_SGD_augmented_with_val/weights/best.pt'], batch_size=32, imgsz=640, conf_thres=0.001, iou_thres=0.6, max_det=300, task=test, device=, workers=8, single_cls=False, augment=False, verbose=False, save_txt=False, save_hybrid=False, save_conf=False, save_json=False, project=runs/val, name=small_SGD_augmented_with_val, exist_ok=False, half=False, dnn=False\n",
      "YOLOv5 🚀 v7.0-128-gb96f35c Python-3.8.13 torch-1.12.1 CUDA:0 (Tesla M60, 8129MiB)\n",
      "\n",
      "Fusing layers... \n",
      "Model summary: 157 layers, 7031701 parameters, 0 gradients, 15.8 GFLOPs\n",
      "\u001b[34m\u001b[1mtest: \u001b[0mScanning /home/student/myWork/hw1/yolov5/arranged_dataset/test/labels.cach\u001b[0m\n",
      "                 Class     Images  Instances          P          R      mAP50   \n",
      "                   all        199        398      0.528        0.7      0.541      0.474\n",
      "        Right_Scissors        199         42      0.889      0.976      0.889       0.77\n",
      "         Left_Scissors        199          1          0          0     0.0028    0.00028\n",
      "   Right_Needle_driver        199        137      0.915      0.978      0.959      0.866\n",
      "    Left_Needle_driver        199         10     0.0341        0.5     0.0345     0.0137\n",
      "          Left_Forceps        199         62      0.939      0.935      0.956      0.826\n",
      "           Right_Empty        199         20     0.0767       0.55     0.0691     0.0554\n",
      "            Left_Empty        199        126       0.84      0.962      0.875      0.788\n",
      "Speed: 0.3ms pre-process, 8.0ms inference, 1.4ms NMS per image at shape (32, 3, 640, 640)\n",
      "Results saved to \u001b[1mruns/val/small_SGD_augmented_with_val\u001b[0m\n"
     ]
    }
   ],
   "source": [
    "!cd yolov5 && python val.py --weights 'runs/train/small_SGD_augmented_with_val/weights/best.pt' --data data.yaml --task test --name 'small_SGD_augmented_with_val'"
   ]
  },
  {
   "cell_type": "markdown",
   "id": "95dad517",
   "metadata": {},
   "source": [
    "## Experiment 6\n",
    "### Large Model + Data Augmentation"
   ]
  },
  {
   "cell_type": "code",
   "execution_count": 15,
   "id": "8b05019e",
   "metadata": {},
   "outputs": [
    {
     "name": "stdout",
     "output_type": "stream",
     "text": [
      "\u001b[34m\u001b[1mval: \u001b[0mdata=data.yaml, weights=['runs/train/large_SGD_augmented_with_val/weights/best.pt'], batch_size=32, imgsz=640, conf_thres=0.001, iou_thres=0.6, max_det=300, task=test, device=, workers=8, single_cls=False, augment=False, verbose=False, save_txt=False, save_hybrid=False, save_conf=False, save_json=False, project=runs/val, name=large_SGD_augmented_with_val, exist_ok=False, half=False, dnn=False\n",
      "YOLOv5 🚀 v7.0-128-gb96f35c Python-3.8.13 torch-1.12.1 CUDA:0 (Tesla M60, 8129MiB)\n",
      "\n",
      "Fusing layers... \n",
      "Model summary: 267 layers, 46145973 parameters, 0 gradients, 107.8 GFLOPs\n",
      "\u001b[34m\u001b[1mtest: \u001b[0mScanning /home/student/myWork/hw1/yolov5/arranged_dataset/test/labels.cach\u001b[0m\n",
      "                 Class     Images  Instances          P          R      mAP50   \n",
      "                   all        199        398       0.51      0.713      0.549       0.49\n",
      "        Right_Scissors        199         42      0.841      0.976      0.929      0.815\n",
      "         Left_Scissors        199          1          0          0    0.00389   0.000389\n",
      "   Right_Needle_driver        199        137      0.894      0.988      0.944      0.875\n",
      "    Left_Needle_driver        199         10      0.033        0.5      0.026     0.0148\n",
      "          Left_Forceps        199         62      0.924      0.952      0.959      0.838\n",
      "           Right_Empty        199         20     0.0778        0.6      0.084     0.0673\n",
      "            Left_Empty        199        126      0.798      0.976      0.894      0.816\n",
      "Speed: 0.3ms pre-process, 31.5ms inference, 1.5ms NMS per image at shape (32, 3, 640, 640)\n",
      "Results saved to \u001b[1mruns/val/large_SGD_augmented_with_val\u001b[0m\n"
     ]
    }
   ],
   "source": [
    "!cd yolov5 && python val.py --weights 'runs/train/large_SGD_augmented_with_val/weights/best.pt' --data data.yaml --task test --name 'large_SGD_augmented_with_val'"
   ]
  }
 ],
 "metadata": {
  "kernelspec": {
   "display_name": "Python 3 (ipykernel)",
   "language": "python",
   "name": "python3"
  },
  "language_info": {
   "codemirror_mode": {
    "name": "ipython",
    "version": 3
   },
   "file_extension": ".py",
   "mimetype": "text/x-python",
   "name": "python",
   "nbconvert_exporter": "python",
   "pygments_lexer": "ipython3",
   "version": "3.8.13"
  }
 },
 "nbformat": 4,
 "nbformat_minor": 5
}
